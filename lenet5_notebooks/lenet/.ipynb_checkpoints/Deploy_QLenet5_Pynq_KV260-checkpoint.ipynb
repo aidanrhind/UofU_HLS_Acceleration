{
 "cells": [
  {
   "cell_type": "code",
   "execution_count": 1,
   "id": "292cfbc2-91b1-43f7-9af8-d59c795eb86c",
   "metadata": {},
   "outputs": [],
   "source": [
    "import finn.builder.build_dataflow as build\n",
    "import finn.builder.build_dataflow_config as build_cfg\n",
    "import os\n",
    "import shutil"
   ]
  },
  {
   "cell_type": "code",
   "execution_count": 2,
   "id": "c1134e56-698b-4200-bb52-1fd453a90fc5",
   "metadata": {},
   "outputs": [
    {
     "name": "stdout",
     "output_type": "stream",
     "text": [
      "dict_keys(['Ultra96', 'Ultra96-V2', 'Pynq-Z1', 'Pynq-Z2', 'ZCU102', 'ZCU104', 'ZCU111', 'RFSoC2x2', 'RFSoC4x2', 'KV260_SOM'])\n"
     ]
    }
   ],
   "source": [
    "from finn.util.basic import pynq_part_map\n",
    "print(pynq_part_map.keys())"
   ]
  },
  {
   "cell_type": "code",
   "execution_count": 3,
   "id": "8fdfbea0-4001-4e26-8cef-d491f7f2f3f5",
   "metadata": {},
   "outputs": [],
   "source": [
    "board = \"KV260_SOM\""
   ]
  },
  {
   "cell_type": "code",
   "execution_count": 4,
   "id": "fbfe5849-32b4-4e1e-88f7-d512e5faf4b8",
   "metadata": {},
   "outputs": [
    {
     "name": "stdout",
     "output_type": "stream",
     "text": [
      "KV260_SOM\n"
     ]
    }
   ],
   "source": [
    "print(board)"
   ]
  },
  {
   "cell_type": "code",
   "execution_count": 6,
   "id": "ec767a35-b0da-4e94-8bec-113bbebd0e96",
   "metadata": {},
   "outputs": [
    {
     "name": "stdout",
     "output_type": "stream",
     "text": [
      "Previous run results deleted!\n",
      "Building dataflow accelerator from onnx_models/lenet_finn_qonnx.onnx\n",
      "Intermediate outputs will be generated in /tmp/finn_dev_vboxuser\n",
      "Final outputs will be generated in output\n",
      "Build log is at output/build_dataflow.log\n",
      "Running step: step_qonnx_to_finn [1/18]\n",
      "Running step: step_tidy_up [2/18]\n",
      "Running step: step_streamline [3/18]\n",
      "Running step: step_convert_to_hls [4/18]\n",
      "Running step: step_create_dataflow_partition [5/18]\n",
      "Running step: step_target_fps_parallelization [6/18]\n",
      "Running step: step_apply_folding_config [7/18]\n",
      "Running step: step_minimize_bit_width [8/18]\n",
      "Running step: step_generate_estimate_reports [9/18]\n",
      "Running step: step_hls_codegen [10/18]\n",
      "Running step: step_hls_ipgen [11/18]\n",
      "Running step: step_set_fifo_depths [12/18]\n",
      "Running step: step_create_stitched_ip [13/18]\n",
      "Running step: step_measure_rtlsim_performance [14/18]\n",
      "Running step: step_out_of_context_synthesis [15/18]\n",
      "Running step: step_synthesize_bitfile [16/18]\n",
      "Running step: step_make_pynq_driver [17/18]\n",
      "Running step: step_deployment_package [18/18]\n",
      "Completed successfully\n"
     ]
    },
    {
     "data": {
      "text/plain": [
       "0"
      ]
     },
     "execution_count": 6,
     "metadata": {},
     "output_type": "execute_result"
    }
   ],
   "source": [
    "model_file = \"onnx_models/lenet5_folded.onnx\"\n",
    "\n",
    "#Delete previous run results if exist\n",
    "\n",
    "final_output_dir = \"output\"\n",
    "\n",
    "\n",
    "#Delete previous run results if exist\n",
    "if os.path.exists(final_output_dir):\n",
    "    shutil.rmtree(final_output_dir)\n",
    "    print(\"Previous run results deleted!\")\n",
    "\n",
    "cfg = build.DataflowBuildConfig(\n",
    "    output_dir          = final_output_dir,\n",
    "    mvau_wwidth_max     = 80,\n",
    "    target_fps          = 10000,\n",
    "    synth_clk_period_ns = 10.0,\n",
    "    board               = \"KV260_SOM\",\n",
    "    shell_flow_type     = build_cfg.ShellFlowType.VIVADO_ZYNQ,\n",
    "    generate_outputs=[\n",
    "        build_cfg.DataflowOutputType.BITFILE,\n",
    "        build_cfg.DataflowOutputType.PYNQ_DRIVER,\n",
    "        build_cfg.DataflowOutputType.DEPLOYMENT_PACKAGE,\n",
    "    ]\n",
    ")\n",
    "build.build_dataflow_cfg(model_file, cfg)"
   ]
  },
  {
   "cell_type": "code",
   "execution_count": 7,
   "id": "156afc55-36b1-4ae3-95bd-a24771c423fc",
   "metadata": {},
   "outputs": [
    {
     "data": {
      "text/plain": [
       "'/home/vboxuser/workspace/finn/notebooks/lenet/deploy_pynq.zip'"
      ]
     },
     "execution_count": 7,
     "metadata": {},
     "output_type": "execute_result"
    }
   ],
   "source": [
    "from shutil import make_archive\n",
    "make_archive('deploy_pynq', 'zip', final_output_dir+\"/deploy\")"
   ]
  },
  {
   "cell_type": "code",
   "execution_count": 8,
   "id": "e5f2c8ab-41cd-4304-9813-aaf897e6df2f",
   "metadata": {},
   "outputs": [
    {
     "name": "stdout",
     "output_type": "stream",
     "text": [
      "ssh: connect to host 127.0.0.1 port 22: Connection refused\n",
      "lost connection\n"
     ]
    }
   ],
   "source": [
    "!scp -r deploy_pynq.zip ubuntu@127.0.0.1:~/"
   ]
  },
  {
   "cell_type": "code",
   "execution_count": null,
   "id": "5dac9dde-8ec6-426e-9b67-0174b9b29713",
   "metadata": {},
   "outputs": [],
   "source": []
  }
 ],
 "metadata": {
  "kernelspec": {
   "display_name": "Python 3 (ipykernel)",
   "language": "python",
   "name": "python3"
  },
  "language_info": {
   "codemirror_mode": {
    "name": "ipython",
    "version": 3
   },
   "file_extension": ".py",
   "mimetype": "text/x-python",
   "name": "python",
   "nbconvert_exporter": "python",
   "pygments_lexer": "ipython3",
   "version": "3.10.12"
  }
 },
 "nbformat": 4,
 "nbformat_minor": 5
}
